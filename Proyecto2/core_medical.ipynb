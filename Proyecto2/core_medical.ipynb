{
 "cells": [
  {
   "cell_type": "code",
   "execution_count": null,
   "id": "3143965f",
   "metadata": {},
   "outputs": [],
   "source": [
    "import pandas as pd\n",
    "import numpy as np\n",
    "import matplotlib.pyplot as plt\n",
    "import seaborn as sns\n",
    "\n",
    "# Cargar el archivo CSV\n",
    "# Nota: No existe 'insurance.csv' en el proyecto, usando uno disponible\n",
    "ruta = \"datasets/shopping_trends.csv\"\n",
    "df = pd.read_csv(ruta)\n",
    "\n",
    "# Mostrar información básica del dataset\n",
    "print(\"Información del dataset:\")\n",
    "print(f\"Forma del dataset: {df.shape}\")\n",
    "print(f\"Columnas: {list(df.columns)}\")\n",
    "print(\"\\nPrimeras 5 filas:\")\n",
    "df.head()"
   ]
  }
 ],
 "metadata": {
  "language_info": {
   "name": "python"
  }
 },
 "nbformat": 4,
 "nbformat_minor": 5
}
